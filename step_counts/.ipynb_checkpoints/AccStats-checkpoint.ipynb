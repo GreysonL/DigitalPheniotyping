{
 "cells": [
  {
   "cell_type": "code",
   "execution_count": 84,
   "metadata": {},
   "outputs": [],
   "source": [
    "import os\n",
    "import sys\n",
    "import time\n",
    "import numpy as np\n",
    "import pandas as pd\n",
    "from dateutil import tz\n",
    "from scipy import fftpack, stats\n",
    "from itertools import chain\n",
    "from datetime import datetime,timedelta"
   ]
  },
  {
   "cell_type": "code",
   "execution_count": 12,
   "metadata": {},
   "outputs": [
    {
     "data": {
      "text/html": [
       "<div>\n",
       "<style scoped>\n",
       "    .dataframe tbody tr th:only-of-type {\n",
       "        vertical-align: middle;\n",
       "    }\n",
       "\n",
       "    .dataframe tbody tr th {\n",
       "        vertical-align: top;\n",
       "    }\n",
       "\n",
       "    .dataframe thead th {\n",
       "        text-align: right;\n",
       "    }\n",
       "</style>\n",
       "<table border=\"1\" class=\"dataframe\">\n",
       "  <thead>\n",
       "    <tr style=\"text-align: right;\">\n",
       "      <th></th>\n",
       "      <th>timestamp</th>\n",
       "      <th>UTC time</th>\n",
       "      <th>accuracy</th>\n",
       "      <th>x</th>\n",
       "      <th>y</th>\n",
       "      <th>z</th>\n",
       "    </tr>\n",
       "  </thead>\n",
       "  <tbody>\n",
       "    <tr>\n",
       "      <th>0</th>\n",
       "      <td>1516467868973</td>\n",
       "      <td>2018-01-20T17:04:28.973</td>\n",
       "      <td>3</td>\n",
       "      <td>-0.186753</td>\n",
       "      <td>5.569083</td>\n",
       "      <td>7.245076</td>\n",
       "    </tr>\n",
       "    <tr>\n",
       "      <th>1</th>\n",
       "      <td>1516467869113</td>\n",
       "      <td>2018-01-20T17:04:29.113</td>\n",
       "      <td>3</td>\n",
       "      <td>-0.383084</td>\n",
       "      <td>5.674431</td>\n",
       "      <td>7.292961</td>\n",
       "    </tr>\n",
       "    <tr>\n",
       "      <th>2</th>\n",
       "      <td>1516467869133</td>\n",
       "      <td>2018-01-20T17:04:29.133</td>\n",
       "      <td>3</td>\n",
       "      <td>-0.565049</td>\n",
       "      <td>5.944984</td>\n",
       "      <td>7.723930</td>\n",
       "    </tr>\n",
       "    <tr>\n",
       "      <th>3</th>\n",
       "      <td>1516467869157</td>\n",
       "      <td>2018-01-20T17:04:29.157</td>\n",
       "      <td>3</td>\n",
       "      <td>-0.536318</td>\n",
       "      <td>5.892310</td>\n",
       "      <td>7.829279</td>\n",
       "    </tr>\n",
       "    <tr>\n",
       "      <th>4</th>\n",
       "      <td>1516467869158</td>\n",
       "      <td>2018-01-20T17:04:29.158</td>\n",
       "      <td>3</td>\n",
       "      <td>-0.837996</td>\n",
       "      <td>5.937801</td>\n",
       "      <td>8.032792</td>\n",
       "    </tr>\n",
       "    <tr>\n",
       "      <th>5</th>\n",
       "      <td>1516467869160</td>\n",
       "      <td>2018-01-20T17:04:29.160</td>\n",
       "      <td>3</td>\n",
       "      <td>-0.677580</td>\n",
       "      <td>5.719923</td>\n",
       "      <td>8.154900</td>\n",
       "    </tr>\n",
       "    <tr>\n",
       "      <th>6</th>\n",
       "      <td>1516467869175</td>\n",
       "      <td>2018-01-20T17:04:29.175</td>\n",
       "      <td>3</td>\n",
       "      <td>-0.399844</td>\n",
       "      <td>5.478101</td>\n",
       "      <td>7.917867</td>\n",
       "    </tr>\n",
       "    <tr>\n",
       "      <th>7</th>\n",
       "      <td>1516467869315</td>\n",
       "      <td>2018-01-20T17:04:29.315</td>\n",
       "      <td>3</td>\n",
       "      <td>-0.232245</td>\n",
       "      <td>5.310502</td>\n",
       "      <td>7.728719</td>\n",
       "    </tr>\n",
       "    <tr>\n",
       "      <th>8</th>\n",
       "      <td>1516467869325</td>\n",
       "      <td>2018-01-20T17:04:29.325</td>\n",
       "      <td>3</td>\n",
       "      <td>-0.395055</td>\n",
       "      <td>5.523592</td>\n",
       "      <td>8.097438</td>\n",
       "    </tr>\n",
       "    <tr>\n",
       "      <th>9</th>\n",
       "      <td>1516467869333</td>\n",
       "      <td>2018-01-20T17:04:29.333</td>\n",
       "      <td>3</td>\n",
       "      <td>-0.660820</td>\n",
       "      <td>5.494861</td>\n",
       "      <td>8.209969</td>\n",
       "    </tr>\n",
       "  </tbody>\n",
       "</table>\n",
       "</div>"
      ],
      "text/plain": [
       "       timestamp                 UTC time  accuracy         x         y  \\\n",
       "0  1516467868973  2018-01-20T17:04:28.973         3 -0.186753  5.569083   \n",
       "1  1516467869113  2018-01-20T17:04:29.113         3 -0.383084  5.674431   \n",
       "2  1516467869133  2018-01-20T17:04:29.133         3 -0.565049  5.944984   \n",
       "3  1516467869157  2018-01-20T17:04:29.157         3 -0.536318  5.892310   \n",
       "4  1516467869158  2018-01-20T17:04:29.158         3 -0.837996  5.937801   \n",
       "5  1516467869160  2018-01-20T17:04:29.160         3 -0.677580  5.719923   \n",
       "6  1516467869175  2018-01-20T17:04:29.175         3 -0.399844  5.478101   \n",
       "7  1516467869315  2018-01-20T17:04:29.315         3 -0.232245  5.310502   \n",
       "8  1516467869325  2018-01-20T17:04:29.325         3 -0.395055  5.523592   \n",
       "9  1516467869333  2018-01-20T17:04:29.333         3 -0.660820  5.494861   \n",
       "\n",
       "          z  \n",
       "0  7.245076  \n",
       "1  7.292961  \n",
       "2  7.723930  \n",
       "3  7.829279  \n",
       "4  8.032792  \n",
       "5  8.154900  \n",
       "6  7.917867  \n",
       "7  7.728719  \n",
       "8  8.097438  \n",
       "9  8.209969  "
      ]
     },
     "execution_count": 12,
     "metadata": {},
     "output_type": "execute_result"
    }
   ],
   "source": [
    "path = \"F:/DATA/hope/1s5wlcm6/accelerometer/2018-01-20 17_00_00.csv\"\n",
    "data = pd.read_csv(path)\n",
    "data.head(10)"
   ]
  },
  {
   "cell_type": "code",
   "execution_count": 76,
   "metadata": {},
   "outputs": [],
   "source": [
    "## 1. smooth to a certain Hz\n",
    "hz = 10\n",
    "def smooth_data(data,hz):\n",
    "  stamp0 = datetime.fromtimestamp(data['timestamp'][0]/1000)\n",
    "  stamp1 = [stamp0.year,stamp0.month,stamp0.day,stamp0.hour]\n",
    "  t = np.array(data[\"timestamp\"])\n",
    "  x = np.array(data[\"x\"])\n",
    "  y = np.array(data[\"y\"])\n",
    "  z = np.array(data[\"z\"])\n",
    "  mag = np.sqrt(x**2+y**2+z**2)\n",
    "  t_diff = t[1:]-t[:-1]\n",
    "  t_active = sum(t_diff[t_diff<5*1000])\n",
    "  t_active = t_active/1000/60  ## in minute\n",
    "  a = np.floor((t - min(t))/(1/hz*1000))  ## bin\n",
    "  b = []\n",
    "  for i in np.unique(a):\n",
    "    index = a==i\n",
    "    b.append(np.mean(mag[index]))\n",
    "  b = np.array(b)\n",
    "  return stamp1,t_active,np.unique(a)*(1/hz*1000),b"
   ]
  },
  {
   "cell_type": "code",
   "execution_count": 14,
   "metadata": {},
   "outputs": [],
   "source": [
    "stamp,t_active,t,mag = smooth_data(data,hz)"
   ]
  },
  {
   "cell_type": "code",
   "execution_count": 19,
   "metadata": {},
   "outputs": [],
   "source": [
    "## 2. step estimation funciton\n",
    "q = 75\n",
    "c = 1.05\n",
    "def step_est(t,mag,t_active,q,c):\n",
    "  if np.mean(mag)>8:\n",
    "    g = 9.8\n",
    "  else:\n",
    "    g = 1\n",
    "  h = max(np.percentile(mag,q),c*g)\n",
    "  step = 0\n",
    "  current = -350\n",
    "  for j in range(len(t)):\n",
    "    if(mag[j]>=h and t[j]>=current+350):\n",
    "      step = step + 1\n",
    "      current = t[j]\n",
    "  final_step = int(step/t_active*60)\n",
    "  return final_step"
   ]
  },
  {
   "cell_type": "code",
   "execution_count": 20,
   "metadata": {},
   "outputs": [
    {
     "data": {
      "text/plain": [
       "151"
      ]
     },
     "execution_count": 20,
     "metadata": {},
     "output_type": "execute_result"
    }
   ],
   "source": [
    "step_est(t,mag,t_active,q,c)"
   ]
  },
  {
   "cell_type": "code",
   "execution_count": 70,
   "metadata": {},
   "outputs": [],
   "source": [
    "## 3. other statistics from accelerometer data\n",
    "def acc_stats(mag,hz):\n",
    "  m_mag = np.mean(mag)\n",
    "  sd_mag = np.std(mag)\n",
    "  X = fftpack.fft(mag)\n",
    "  remove_X = X[X!=max(X)]\n",
    "  f_vec = fftpack.fftfreq(len(mag))*hz\n",
    "  remove_F = f_vec[X!=max(X)]\n",
    "  freq = remove_F[remove_X==max(remove_X)][0]\n",
    "  amplitude_spectrum = np.abs(X)/hz\n",
    "  eg = sum(amplitude_spectrum**2)*hz/len(mag)**2\n",
    "  entropy = stats.entropy(mag)\n",
    "  return [m_mag,sd_mag,freq,eg,entropy]"
   ]
  },
  {
   "cell_type": "code",
   "execution_count": 71,
   "metadata": {},
   "outputs": [
    {
     "data": {
      "text/plain": [
       "[9.90077849773792,\n",
       " 0.8550554806154826,\n",
       " 1.8614130434782608,\n",
       " 9.875653473620146,\n",
       " 8.677132504256651]"
      ]
     },
     "execution_count": 71,
     "metadata": {},
     "output_type": "execute_result"
    }
   ],
   "source": [
    "others = acc_stats(mag,hz)\n",
    "others"
   ]
  },
  {
   "cell_type": "code",
   "execution_count": 91,
   "metadata": {},
   "outputs": [],
   "source": [
    "## wrap up every thing\n",
    "hz = 10; q = 75; c = 1.05\n",
    "def GetAccStats(data,hz,q,c):\n",
    "  stamp,t_active,t,mag = smooth_data(data,hz)\n",
    "  steps = step_est(t,mag,t_active,q,c)\n",
    "  others = others = acc_stats(mag,hz)\n",
    "  result = [stamp[0],stamp[1],stamp[2],stamp[3],t_active,steps,\n",
    "            others[0],others[1],others[2],others[3],others[4]]\n",
    "  return np.array(result)"
   ]
  },
  {
   "cell_type": "code",
   "execution_count": 92,
   "metadata": {},
   "outputs": [
    {
     "data": {
      "text/plain": [
       "array([2.01800000e+03, 1.00000000e+00, 2.00000000e+01, 1.20000000e+01,\n",
       "       9.88225000e+00, 1.85700000e+03, 9.90077850e+00, 8.55055481e-01,\n",
       "       1.86141304e+00, 9.87565347e+00, 8.67713250e+00])"
      ]
     },
     "execution_count": 92,
     "metadata": {},
     "output_type": "execute_result"
    }
   ],
   "source": [
    "GetAccStats(data,hz,q,c)\n",
    "## year,month,day,hour,active_min,steps,mean_mag,sd_mag,freq,energy,entropy"
   ]
  }
 ],
 "metadata": {
  "kernelspec": {
   "display_name": "Python 3",
   "language": "python",
   "name": "python3"
  },
  "language_info": {
   "codemirror_mode": {
    "name": "ipython",
    "version": 3
   },
   "file_extension": ".py",
   "mimetype": "text/x-python",
   "name": "python",
   "nbconvert_exporter": "python",
   "pygments_lexer": "ipython3",
   "version": "3.6.6"
  }
 },
 "nbformat": 4,
 "nbformat_minor": 2
}
